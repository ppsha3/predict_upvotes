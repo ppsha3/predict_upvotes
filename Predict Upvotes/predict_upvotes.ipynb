{
 "cells": [
  {
   "cell_type": "code",
   "execution_count": 1,
   "metadata": {},
   "outputs": [],
   "source": [
    "import pandas as pd\n",
    "import numpy as np\n",
    "import matplotlib.pyplot as plt\n",
    "from sklearn import preprocessing\n",
    "from sklearn import model_selection\n",
    "from sklearn import linear_model\n",
    "from sklearn.metrics import mean_squared_error, r2_score\n",
    "\n",
    "pd.options.mode.chained_assignment = None"
   ]
  },
  {
   "cell_type": "code",
   "execution_count": 2,
   "metadata": {},
   "outputs": [],
   "source": [
    "train = pd.read_csv('data/train.csv')    # reading the data"
   ]
  },
  {
   "cell_type": "code",
   "execution_count": 3,
   "metadata": {},
   "outputs": [
    {
     "data": {
      "text/html": [
       "<div>\n",
       "<style scoped>\n",
       "    .dataframe tbody tr th:only-of-type {\n",
       "        vertical-align: middle;\n",
       "    }\n",
       "\n",
       "    .dataframe tbody tr th {\n",
       "        vertical-align: top;\n",
       "    }\n",
       "\n",
       "    .dataframe thead th {\n",
       "        text-align: right;\n",
       "    }\n",
       "</style>\n",
       "<table border=\"1\" class=\"dataframe\">\n",
       "  <thead>\n",
       "    <tr style=\"text-align: right;\">\n",
       "      <th></th>\n",
       "      <th>ID</th>\n",
       "      <th>Tag</th>\n",
       "      <th>Reputation</th>\n",
       "      <th>Answers</th>\n",
       "      <th>Username</th>\n",
       "      <th>Views</th>\n",
       "      <th>Upvotes</th>\n",
       "    </tr>\n",
       "  </thead>\n",
       "  <tbody>\n",
       "    <tr>\n",
       "      <th>0</th>\n",
       "      <td>52664</td>\n",
       "      <td>a</td>\n",
       "      <td>3942.0</td>\n",
       "      <td>2.0</td>\n",
       "      <td>155623</td>\n",
       "      <td>7855.0</td>\n",
       "      <td>42.0</td>\n",
       "    </tr>\n",
       "    <tr>\n",
       "      <th>1</th>\n",
       "      <td>327662</td>\n",
       "      <td>a</td>\n",
       "      <td>26046.0</td>\n",
       "      <td>12.0</td>\n",
       "      <td>21781</td>\n",
       "      <td>55801.0</td>\n",
       "      <td>1175.0</td>\n",
       "    </tr>\n",
       "    <tr>\n",
       "      <th>2</th>\n",
       "      <td>468453</td>\n",
       "      <td>c</td>\n",
       "      <td>1358.0</td>\n",
       "      <td>4.0</td>\n",
       "      <td>56177</td>\n",
       "      <td>8067.0</td>\n",
       "      <td>60.0</td>\n",
       "    </tr>\n",
       "    <tr>\n",
       "      <th>3</th>\n",
       "      <td>96996</td>\n",
       "      <td>a</td>\n",
       "      <td>264.0</td>\n",
       "      <td>3.0</td>\n",
       "      <td>168793</td>\n",
       "      <td>27064.0</td>\n",
       "      <td>9.0</td>\n",
       "    </tr>\n",
       "    <tr>\n",
       "      <th>4</th>\n",
       "      <td>131465</td>\n",
       "      <td>c</td>\n",
       "      <td>4271.0</td>\n",
       "      <td>4.0</td>\n",
       "      <td>112223</td>\n",
       "      <td>13986.0</td>\n",
       "      <td>83.0</td>\n",
       "    </tr>\n",
       "    <tr>\n",
       "      <th>5</th>\n",
       "      <td>345568</td>\n",
       "      <td>r</td>\n",
       "      <td>440.0</td>\n",
       "      <td>1.0</td>\n",
       "      <td>23866</td>\n",
       "      <td>5577.0</td>\n",
       "      <td>4.0</td>\n",
       "    </tr>\n",
       "    <tr>\n",
       "      <th>6</th>\n",
       "      <td>376865</td>\n",
       "      <td>c</td>\n",
       "      <td>147.0</td>\n",
       "      <td>1.0</td>\n",
       "      <td>10759</td>\n",
       "      <td>17184.0</td>\n",
       "      <td>17.0</td>\n",
       "    </tr>\n",
       "    <tr>\n",
       "      <th>7</th>\n",
       "      <td>467378</td>\n",
       "      <td>j</td>\n",
       "      <td>2269.0</td>\n",
       "      <td>2.0</td>\n",
       "      <td>54623</td>\n",
       "      <td>312.0</td>\n",
       "      <td>3.0</td>\n",
       "    </tr>\n",
       "    <tr>\n",
       "      <th>8</th>\n",
       "      <td>393640</td>\n",
       "      <td>j</td>\n",
       "      <td>111.0</td>\n",
       "      <td>2.0</td>\n",
       "      <td>172926</td>\n",
       "      <td>53738.0</td>\n",
       "      <td>79.0</td>\n",
       "    </tr>\n",
       "    <tr>\n",
       "      <th>9</th>\n",
       "      <td>130054</td>\n",
       "      <td>c</td>\n",
       "      <td>2749.0</td>\n",
       "      <td>1.0</td>\n",
       "      <td>10189</td>\n",
       "      <td>227.0</td>\n",
       "      <td>0.0</td>\n",
       "    </tr>\n",
       "  </tbody>\n",
       "</table>\n",
       "</div>"
      ],
      "text/plain": [
       "       ID Tag  Reputation  Answers  Username    Views  Upvotes\n",
       "0   52664   a      3942.0      2.0    155623   7855.0     42.0\n",
       "1  327662   a     26046.0     12.0     21781  55801.0   1175.0\n",
       "2  468453   c      1358.0      4.0     56177   8067.0     60.0\n",
       "3   96996   a       264.0      3.0    168793  27064.0      9.0\n",
       "4  131465   c      4271.0      4.0    112223  13986.0     83.0\n",
       "5  345568   r       440.0      1.0     23866   5577.0      4.0\n",
       "6  376865   c       147.0      1.0     10759  17184.0     17.0\n",
       "7  467378   j      2269.0      2.0     54623    312.0      3.0\n",
       "8  393640   j       111.0      2.0    172926  53738.0     79.0\n",
       "9  130054   c      2749.0      1.0     10189    227.0      0.0"
      ]
     },
     "execution_count": 3,
     "metadata": {},
     "output_type": "execute_result"
    }
   ],
   "source": [
    "# check the data\n",
    "\n",
    "train.head(10)"
   ]
  },
  {
   "cell_type": "code",
   "execution_count": 4,
   "metadata": {},
   "outputs": [],
   "source": [
    "train.drop(['ID', 'Username'], axis=1, inplace=True)   # dropping the unnecessary columns"
   ]
  },
  {
   "cell_type": "code",
   "execution_count": 5,
   "metadata": {},
   "outputs": [],
   "source": [
    "# Pre-processing the data\n",
    "\n",
    "# convert the string to numbers\n",
    "tags = set(train['Tag'])\n",
    "\n",
    "train['Tag'] = train['Tag'].replace(to_replace=tags, value=range(len(tags)))"
   ]
  },
  {
   "cell_type": "code",
   "execution_count": 6,
   "metadata": {},
   "outputs": [
    {
     "name": "stdout",
     "output_type": "stream",
     "text": [
      "        Tag  Reputation   Answers     Views   Upvotes\n",
      "0  1.746117   -0.141573 -0.535736 -0.269158 -0.082258\n",
      "1  1.746117    0.675238  2.257943  0.323087  0.233127\n",
      "2 -0.832059   -0.237059  0.023000 -0.266540 -0.077247\n",
      "3  1.746117   -0.277486 -0.256368 -0.031882 -0.091444\n",
      "4 -0.832059   -0.129415  0.023000 -0.193426 -0.070845\n",
      "5  0.641184   -0.270982 -0.815104 -0.297297 -0.092835\n",
      "6 -0.832059   -0.281809 -0.815104 -0.153923 -0.089217\n",
      "7  0.272873   -0.203395 -0.535736 -0.362332 -0.093114\n",
      "8  0.272873   -0.283140 -0.535736  0.297604 -0.071958\n",
      "9 -0.832059   -0.185658 -0.815104 -0.363382 -0.093949\n"
     ]
    }
   ],
   "source": [
    "# Scaling the data using the (Max-Min)/Max method\n",
    "\n",
    "scaler = preprocessing.StandardScaler()\n",
    "\n",
    "x = train.values    # converting to numpy array\n",
    "scaled = scaler.fit_transform(x)\n",
    "train = pd.DataFrame(scaled, columns=train.columns)  # reverting to DataFrame\n",
    "\n",
    "print(train.head(10))"
   ]
  },
  {
   "cell_type": "code",
   "execution_count": 7,
   "metadata": {},
   "outputs": [],
   "source": [
    "# Spiltting the data to check the model\n",
    "\n",
    "train, val = model_selection.train_test_split(train, train_size=0.8, test_size=0.2)"
   ]
  },
  {
   "cell_type": "code",
   "execution_count": 8,
   "metadata": {},
   "outputs": [],
   "source": [
    "# separating the independent and dependent variables\n",
    "\n",
    "x_train = train[['Tag', 'Reputation', 'Answers', 'Views']]\n",
    "x_val = val[['Tag', 'Reputation', 'Answers', 'Views']]\n",
    "\n",
    "y_train = train['Upvotes']\n",
    "y_val = val['Upvotes']"
   ]
  },
  {
   "cell_type": "code",
   "execution_count": 9,
   "metadata": {},
   "outputs": [],
   "source": [
    "# Now, checking the polynomiality \n",
    "\n",
    "poly = preprocessing.PolynomialFeatures(degree=3)      # since there are 4 independent variables\n",
    "\n",
    "x_train_poly = poly.fit_transform(x_train)        # changing the form of x variables\n",
    "x_val_poly = poly.fit_transform(x_val)"
   ]
  },
  {
   "cell_type": "code",
   "execution_count": 10,
   "metadata": {},
   "outputs": [
    {
     "name": "stdout",
     "output_type": "stream",
     "text": [
      "Mean-Sqaured score: 0.08178130\n",
      "R2 score: 0.91\n"
     ]
    }
   ],
   "source": [
    "model = linear_model.LinearRegression()            # creating the model and predicting on the 'val' set\n",
    "model.fit(x_train_poly, y_train)\n",
    "\n",
    "y_pred = model.predict(x_val_poly)\n",
    "\n",
    "# The mean squared error\n",
    "print('Mean-Sqaured score: %.8f' % mean_squared_error(y_val, y_pred))\n",
    "print('R2 score: %.2f' % r2_score(y_val, y_pred))"
   ]
  },
  {
   "cell_type": "markdown",
   "metadata": {},
   "source": [
    "Now, Using this model to predict the test set and submit the csv file"
   ]
  },
  {
   "cell_type": "code",
   "execution_count": 11,
   "metadata": {},
   "outputs": [],
   "source": [
    "test = pd.read_csv('data/test.csv')\n",
    "test_ID = test['ID']\n",
    "\n",
    "x_test = test.drop(['ID', 'Username'], axis=1)\n",
    "x_test['Tag'] = x_test['Tag'].replace(to_replace=tags, value=range(len(tags)))"
   ]
  },
  {
   "cell_type": "code",
   "execution_count": 12,
   "metadata": {},
   "outputs": [
    {
     "name": "stdout",
     "output_type": "stream",
     "text": [
      "        Tag  Reputation   Answers     Views\n",
      "0  1.741412   -0.081543 -0.255734  0.041742\n",
      "1 -0.833141    0.594400  0.582853 -0.337505\n",
      "2  1.373619   -0.250583 -0.814791 -0.108028\n",
      "3  1.373619   -0.283044  0.582853 -0.140874\n",
      "4  1.373619   -0.123463  1.700969  0.340957\n",
      "5 -0.833141   -0.167281 -0.814791 -0.342770\n",
      "6 -0.097554   -0.253019 -0.814791 -0.290495\n",
      "7 -0.833141   -0.256208  0.023795  0.347616\n",
      "8 -1.568728    0.028880 -0.535262 -0.315985\n",
      "9 -0.465348   -0.277705  0.023795 -0.310509\n"
     ]
    }
   ],
   "source": [
    "# Scaling the data using the (Max-Min)/Max method\n",
    "\n",
    "x = x_test.values    # converting to numpy array\n",
    "scaled = scaler.fit_transform(x)\n",
    "x_test = pd.DataFrame(scaled, columns=x_test.columns)  # reverting to DataFrame\n",
    "\n",
    "print(x_test.head(10))"
   ]
  },
  {
   "cell_type": "code",
   "execution_count": 13,
   "metadata": {},
   "outputs": [],
   "source": [
    "# Predicting the upvotes\n",
    "\n",
    "x_test_poly = poly.fit_transform(x_test)\n",
    "\n",
    "y_pred = model.predict(x_test_poly)"
   ]
  },
  {
   "cell_type": "code",
   "execution_count": 14,
   "metadata": {},
   "outputs": [],
   "source": [
    "submission = pd.DataFrame(y_pred, index=test_ID)\n",
    "\n",
    "submission.to_csv(path_or_buf='submission.csv', sep=',', index=True, mode='w+', doublequote=False)"
   ]
  },
  {
   "cell_type": "code",
   "execution_count": null,
   "metadata": {},
   "outputs": [],
   "source": []
  }
 ],
 "metadata": {
  "kernelspec": {
   "display_name": "Python 3",
   "language": "python",
   "name": "python3"
  },
  "language_info": {
   "codemirror_mode": {
    "name": "ipython",
    "version": 3
   },
   "file_extension": ".py",
   "mimetype": "text/x-python",
   "name": "python",
   "nbconvert_exporter": "python",
   "pygments_lexer": "ipython3",
   "version": "3.7.3"
  }
 },
 "nbformat": 4,
 "nbformat_minor": 2
}
